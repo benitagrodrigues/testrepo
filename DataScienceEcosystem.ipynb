{
 "cells": [
  {
   "cell_type": "markdown",
   "id": "0de7ebb1-f501-4b2a-a593-fa8b84a83278",
   "metadata": {},
   "source": [
    "# Data Science Tools and Ecosystems"
   ]
  },
  {
   "cell_type": "markdown",
   "id": "fb59175c-9fcc-409e-b777-9eb416e9d558",
   "metadata": {},
   "source": [
    "In this notebook, Data Science Tools and Ecosystem are summarized."
   ]
  },
  {
   "cell_type": "markdown",
   "id": "33359717-09ca-467d-9bed-66891d23cbef",
   "metadata": {},
   "source": [
    "Objectives:\n",
    "- To list data science languages\n",
    "- To list data science libraries\n",
    "- To list data science tools"
   ]
  },
  {
   "cell_type": "markdown",
   "id": "90fcae15-a0ce-41d1-a943-f5a573e2ce2e",
   "metadata": {},
   "source": [
    "Some of the common languages data scientists use are:\n",
    "1. Python\n",
    "2. R Studio\n",
    "3. SQL\n",
    "4. JavaScript"
   ]
  },
  {
   "cell_type": "markdown",
   "id": "0f1d64ef-be13-4bbe-a4e9-dfb7e9208313",
   "metadata": {},
   "source": [
    "Some of the commonly used Python libraries include:\n",
    "1. SciPy\n",
    "2. NumPy\n",
    "3. SciKit-Learn"
   ]
  },
  {
   "cell_type": "markdown",
   "id": "3ca12210-2de2-4159-8ca6-6a6766d3ecb1",
   "metadata": {},
   "source": [
    "### Below are some examples of arithmetic expressions in Python"
   ]
  },
  {
   "cell_type": "code",
   "execution_count": 2,
   "id": "480d9c6b-898d-4c5b-b0c4-ec661e68bcd5",
   "metadata": {
    "tags": []
   },
   "outputs": [
    {
     "data": {
      "text/plain": [
       "17"
      ]
     },
     "execution_count": 2,
     "metadata": {},
     "output_type": "execute_result"
    }
   ],
   "source": [
    "(3*4)+5"
   ]
  },
  {
   "cell_type": "code",
   "execution_count": 3,
   "id": "30071051-e77c-4a88-bb14-57dab5af00cb",
   "metadata": {
    "tags": []
   },
   "outputs": [
    {
     "data": {
      "text/plain": [
       "3.3333333333333335"
      ]
     },
     "execution_count": 3,
     "metadata": {},
     "output_type": "execute_result"
    }
   ],
   "source": [
    "# This will convert 200 minutes to hours by diving by 60\n",
    "200/60"
   ]
  },
  {
   "cell_type": "markdown",
   "id": "f3405a05-1f1e-4cab-8c14-bd7232bd5aee",
   "metadata": {},
   "source": [
    "## Author\n",
    "Benita"
   ]
  }
 ],
 "metadata": {
  "kernelspec": {
   "display_name": "Python",
   "language": "python",
   "name": "conda-env-python-py"
  },
  "language_info": {
   "codemirror_mode": {
    "name": "ipython",
    "version": 3
   },
   "file_extension": ".py",
   "mimetype": "text/x-python",
   "name": "python",
   "nbconvert_exporter": "python",
   "pygments_lexer": "ipython3",
   "version": "3.7.12"
  }
 },
 "nbformat": 4,
 "nbformat_minor": 5
}
